{
 "cells": [
  {
   "cell_type": "code",
   "execution_count": 1,
   "id": "6eeb19d4",
   "metadata": {},
   "outputs": [],
   "source": [
    "import pandas as pd\n",
    "import numpy as np\n",
    "import seaborn as sns\n",
    "from sklearn.model_selection import train_test_split\n",
    "import matplotlib.pyplot as plt\n",
    "from sklearn.preprocessing import StandardScaler\n",
    "from sklearn.svm import SVC\n"
   ]
  },
  {
   "cell_type": "code",
   "execution_count": 2,
   "id": "b3167b44",
   "metadata": {},
   "outputs": [],
   "source": [
    "df = pd.read_csv(\"pulsar.csv\")"
   ]
  },
  {
   "cell_type": "code",
   "execution_count": 3,
   "id": "72242fd1",
   "metadata": {},
   "outputs": [
    {
     "data": {
      "text/html": [
       "<div>\n",
       "<style scoped>\n",
       "    .dataframe tbody tr th:only-of-type {\n",
       "        vertical-align: middle;\n",
       "    }\n",
       "\n",
       "    .dataframe tbody tr th {\n",
       "        vertical-align: top;\n",
       "    }\n",
       "\n",
       "    .dataframe thead th {\n",
       "        text-align: right;\n",
       "    }\n",
       "</style>\n",
       "<table border=\"1\" class=\"dataframe\">\n",
       "  <thead>\n",
       "    <tr style=\"text-align: right;\">\n",
       "      <th></th>\n",
       "      <th>Mean of the integrated profile</th>\n",
       "      <th>Standard deviation of the integrated profile</th>\n",
       "      <th>Excess kurtosis of the integrated profile</th>\n",
       "      <th>Skewness of the integrated profile</th>\n",
       "      <th>Mean of the DM-SNR curve</th>\n",
       "      <th>Standard deviation of the DM-SNR curve</th>\n",
       "      <th>Excess kurtosis of the DM-SNR curve</th>\n",
       "      <th>Skewness of the DM-SNR curve</th>\n",
       "      <th>target_class</th>\n",
       "    </tr>\n",
       "  </thead>\n",
       "  <tbody>\n",
       "    <tr>\n",
       "      <th>0</th>\n",
       "      <td>121.156250</td>\n",
       "      <td>48.372971</td>\n",
       "      <td>0.375485</td>\n",
       "      <td>-0.013165</td>\n",
       "      <td>3.168896</td>\n",
       "      <td>18.399367</td>\n",
       "      <td>7.449874</td>\n",
       "      <td>65.159298</td>\n",
       "      <td>0.0</td>\n",
       "    </tr>\n",
       "    <tr>\n",
       "      <th>1</th>\n",
       "      <td>76.968750</td>\n",
       "      <td>36.175557</td>\n",
       "      <td>0.712898</td>\n",
       "      <td>3.388719</td>\n",
       "      <td>2.399666</td>\n",
       "      <td>17.570997</td>\n",
       "      <td>9.414652</td>\n",
       "      <td>102.722975</td>\n",
       "      <td>0.0</td>\n",
       "    </tr>\n",
       "    <tr>\n",
       "      <th>2</th>\n",
       "      <td>130.585938</td>\n",
       "      <td>53.229534</td>\n",
       "      <td>0.133408</td>\n",
       "      <td>-0.297242</td>\n",
       "      <td>2.743311</td>\n",
       "      <td>22.362553</td>\n",
       "      <td>8.508364</td>\n",
       "      <td>74.031324</td>\n",
       "      <td>0.0</td>\n",
       "    </tr>\n",
       "    <tr>\n",
       "      <th>3</th>\n",
       "      <td>156.398438</td>\n",
       "      <td>48.865942</td>\n",
       "      <td>-0.215989</td>\n",
       "      <td>-0.171294</td>\n",
       "      <td>17.471572</td>\n",
       "      <td>NaN</td>\n",
       "      <td>2.958066</td>\n",
       "      <td>7.197842</td>\n",
       "      <td>0.0</td>\n",
       "    </tr>\n",
       "    <tr>\n",
       "      <th>4</th>\n",
       "      <td>84.804688</td>\n",
       "      <td>36.117659</td>\n",
       "      <td>0.825013</td>\n",
       "      <td>3.274125</td>\n",
       "      <td>2.790134</td>\n",
       "      <td>20.618009</td>\n",
       "      <td>8.405008</td>\n",
       "      <td>76.291128</td>\n",
       "      <td>0.0</td>\n",
       "    </tr>\n",
       "  </tbody>\n",
       "</table>\n",
       "</div>"
      ],
      "text/plain": [
       "    Mean of the integrated profile  \\\n",
       "0                       121.156250   \n",
       "1                        76.968750   \n",
       "2                       130.585938   \n",
       "3                       156.398438   \n",
       "4                        84.804688   \n",
       "\n",
       "    Standard deviation of the integrated profile  \\\n",
       "0                                      48.372971   \n",
       "1                                      36.175557   \n",
       "2                                      53.229534   \n",
       "3                                      48.865942   \n",
       "4                                      36.117659   \n",
       "\n",
       "    Excess kurtosis of the integrated profile  \\\n",
       "0                                    0.375485   \n",
       "1                                    0.712898   \n",
       "2                                    0.133408   \n",
       "3                                   -0.215989   \n",
       "4                                    0.825013   \n",
       "\n",
       "    Skewness of the integrated profile   Mean of the DM-SNR curve  \\\n",
       "0                            -0.013165                   3.168896   \n",
       "1                             3.388719                   2.399666   \n",
       "2                            -0.297242                   2.743311   \n",
       "3                            -0.171294                  17.471572   \n",
       "4                             3.274125                   2.790134   \n",
       "\n",
       "    Standard deviation of the DM-SNR curve  \\\n",
       "0                                18.399367   \n",
       "1                                17.570997   \n",
       "2                                22.362553   \n",
       "3                                      NaN   \n",
       "4                                20.618009   \n",
       "\n",
       "    Excess kurtosis of the DM-SNR curve   Skewness of the DM-SNR curve  \\\n",
       "0                              7.449874                      65.159298   \n",
       "1                              9.414652                     102.722975   \n",
       "2                              8.508364                      74.031324   \n",
       "3                              2.958066                       7.197842   \n",
       "4                              8.405008                      76.291128   \n",
       "\n",
       "   target_class  \n",
       "0           0.0  \n",
       "1           0.0  \n",
       "2           0.0  \n",
       "3           0.0  \n",
       "4           0.0  "
      ]
     },
     "execution_count": 3,
     "metadata": {},
     "output_type": "execute_result"
    }
   ],
   "source": [
    "df.head()"
   ]
  },
  {
   "cell_type": "code",
   "execution_count": 4,
   "id": "70863f3e",
   "metadata": {},
   "outputs": [
    {
     "data": {
      "text/plain": [
       " Mean of the integrated profile                     0\n",
       " Standard deviation of the integrated profile       0\n",
       " Excess kurtosis of the integrated profile       1735\n",
       " Skewness of the integrated profile                 0\n",
       " Mean of the DM-SNR curve                           0\n",
       " Standard deviation of the DM-SNR curve          1178\n",
       " Excess kurtosis of the DM-SNR curve                0\n",
       " Skewness of the DM-SNR curve                     625\n",
       "target_class                                        0\n",
       "dtype: int64"
      ]
     },
     "execution_count": 4,
     "metadata": {},
     "output_type": "execute_result"
    }
   ],
   "source": [
    "df.isnull().sum()"
   ]
  },
  {
   "cell_type": "code",
   "execution_count": 5,
   "id": "21a38ae2",
   "metadata": {},
   "outputs": [
    {
     "name": "stdout",
     "output_type": "stream",
     "text": [
      "<class 'pandas.core.frame.DataFrame'>\n",
      "RangeIndex: 12528 entries, 0 to 12527\n",
      "Data columns (total 9 columns):\n",
      " #   Column                                         Non-Null Count  Dtype  \n",
      "---  ------                                         --------------  -----  \n",
      " 0    Mean of the integrated profile                12528 non-null  float64\n",
      " 1    Standard deviation of the integrated profile  12528 non-null  float64\n",
      " 2    Excess kurtosis of the integrated profile     10793 non-null  float64\n",
      " 3    Skewness of the integrated profile            12528 non-null  float64\n",
      " 4    Mean of the DM-SNR curve                      12528 non-null  float64\n",
      " 5    Standard deviation of the DM-SNR curve        11350 non-null  float64\n",
      " 6    Excess kurtosis of the DM-SNR curve           12528 non-null  float64\n",
      " 7    Skewness of the DM-SNR curve                  11903 non-null  float64\n",
      " 8   target_class                                   12528 non-null  float64\n",
      "dtypes: float64(9)\n",
      "memory usage: 881.0 KB\n"
     ]
    }
   ],
   "source": [
    "df.info()"
   ]
  },
  {
   "cell_type": "code",
   "execution_count": 6,
   "id": "d382389f",
   "metadata": {},
   "outputs": [
    {
     "data": {
      "text/plain": [
       "<AxesSubplot:>"
      ]
     },
     "execution_count": 6,
     "metadata": {},
     "output_type": "execute_result"
    },
    {
     "data": {
      "image/png": "[encoded data removed]",
      "text/plain": [
       "<Figure size 432x288 with 1 Axes>"
      ]
     },
     "metadata": {
      "needs_background": "light"
     },
     "output_type": "display_data"
    }
   ],
   "source": [
    "df['target_class'].value_counts().plot(kind = 'bar')"
   ]
  },
  {
   "cell_type": "code",
   "execution_count": 7,
   "id": "46eaf824",
   "metadata": {},
   "outputs": [],
   "source": [
    "#Filling the null values with median\n",
    "df[' Excess kurtosis of the integrated profile'].fillna(df[' Excess kurtosis of the integrated profile'].median() , inplace=True)\n",
    "df[' Standard deviation of the DM-SNR curve'].fillna(df[' Standard deviation of the DM-SNR curve'].median() , inplace=True)\n",
    "df[' Skewness of the DM-SNR curve'].fillna(df[' Skewness of the DM-SNR curve'].median(),inplace=True)\n"
   ]
  },
  {
   "cell_type": "code",
   "execution_count": 8,
   "id": "ab8d24fa",
   "metadata": {},
   "outputs": [
    {
     "data": {
      "text/plain": [
       " Mean of the integrated profile                  0\n",
       " Standard deviation of the integrated profile    0\n",
       " Excess kurtosis of the integrated profile       0\n",
       " Skewness of the integrated profile              0\n",
       " Mean of the DM-SNR curve                        0\n",
       " Standard deviation of the DM-SNR curve          0\n",
       " Excess kurtosis of the DM-SNR curve             0\n",
       " Skewness of the DM-SNR curve                    0\n",
       "target_class                                     0\n",
       "dtype: int64"
      ]
     },
     "execution_count": 8,
     "metadata": {},
     "output_type": "execute_result"
    }
   ],
   "source": [
    "df.isnull().sum()"
   ]
  },
  {
   "cell_type": "code",
   "execution_count": 9,
   "id": "44281b2c",
   "metadata": {},
   "outputs": [
    {
     "data": {
      "text/plain": [
       "Text(0.5, 1.0, 'Skewness of the DM-SNR curve')"
      ]
     },
     "execution_count": 9,
     "metadata": {},
     "output_type": "execute_result"
    },
    {
     "data": {
      "image/png": "[encoded data removed]",
      "text/plain": [
       "<Figure size 2016x1440 with 8 Axes>"
      ]
     },
     "metadata": {
      "needs_background": "light"
     },
     "output_type": "display_data"
    }
   ],
   "source": [
    "####checking for outliers\n",
    "####drawing histograms for each attribute\n",
    "plt.figure(figsize=(28,20))\n",
    "\n",
    "plt.subplot(4,2,1)\n",
    "sns.histplot(df[' Mean of the integrated profile'])\n",
    "plt.title('Mean of the integrated profile')\n",
    "\n",
    "plt.subplot(4,2,2)\n",
    "sns.histplot(df[' Standard deviation of the integrated profile'])\n",
    "plt.title('Standard deviation of the integrated profile')\n",
    "\n",
    "plt.subplot(4,2,3)\n",
    "sns.histplot(df[' Excess kurtosis of the integrated profile'])\n",
    "plt.title('Excess kurtosis of the integrated profile')\n",
    "\n",
    "plt.subplot(4,2,4)\n",
    "sns.histplot(df[' Skewness of the integrated profile'])\n",
    "plt.title('Skewness of the integrated profile')\n",
    "\n",
    "plt.subplot(4,2,5)\n",
    "sns.histplot(df[' Mean of the DM-SNR curve'])\n",
    "plt.title('Mean of the DM-SNR curve')\n",
    "\n",
    "plt.subplot(4,2,6)\n",
    "sns.histplot(df[' Mean of the DM-SNR curve'])\n",
    "plt.title('Mean of the DM-SNR curve')\n",
    "\n",
    "plt.subplot(4,2,7)\n",
    "sns.histplot(df[' Excess kurtosis of the DM-SNR curve'])\n",
    "plt.title('Excess kurtosis of the DM-SNR curve  ')\n",
    "\n",
    "plt.subplot(4,2,8)\n",
    "sns.histplot(df[' Skewness of the DM-SNR curve'])\n",
    "plt.title('Skewness of the DM-SNR curve')"
   ]
  },
  {
   "cell_type": "code",
   "execution_count": 10,
   "id": "112954f0",
   "metadata": {},
   "outputs": [],
   "source": [
    "##as we can see there are outliers in the data\n",
    "##so we would have to choose a high value for c"
   ]
  },
  {
   "cell_type": "code",
   "execution_count": 11,
   "id": "7e03967a",
   "metadata": {},
   "outputs": [],
   "source": [
    "##splitting the data\n",
    "X = df.drop(['target_class'], axis=1)\n",
    "y = df['target_class']"
   ]
  },
  {
   "cell_type": "code",
   "execution_count": 12,
   "id": "938a176f",
   "metadata": {},
   "outputs": [],
   "source": [
    "X_train, X_test, y_train, y_test = train_test_split(X, y, test_size = 0.2, random_state = 0)"
   ]
  },
  {
   "cell_type": "code",
   "execution_count": 13,
   "id": "c10c464b",
   "metadata": {},
   "outputs": [],
   "source": [
    "##feature scaling\n",
    "cols = X_train.columns"
   ]
  },
  {
   "cell_type": "code",
   "execution_count": 14,
   "id": "1d33f407",
   "metadata": {},
   "outputs": [],
   "source": [
    "scaler = StandardScaler()\n",
    "X_train = scaler.fit_transform(X_train)\n",
    "X_test = scaler.transform(X_test)"
   ]
  },
  {
   "cell_type": "code",
   "execution_count": 15,
   "id": "64aa2f32",
   "metadata": {},
   "outputs": [],
   "source": [
    "X_train = pd.DataFrame(X_train, columns=[cols])\n",
    "X_test = pd.DataFrame(X_test , columns = [cols])"
   ]
  },
  {
   "cell_type": "code",
   "execution_count": 16,
   "id": "f73528e6",
   "metadata": {},
   "outputs": [],
   "source": [
    "import warnings\n",
    "warnings.filterwarnings('ignore')"
   ]
  },
  {
   "cell_type": "code",
   "execution_count": 17,
   "id": "bbac0d24",
   "metadata": {},
   "outputs": [
    {
     "name": "stdout",
     "output_type": "stream",
     "text": [
      "F1 Score: 0.855\n"
     ]
    }
   ],
   "source": [
    "from sklearn import svm\n",
    "from sklearn.metrics import f1_score\n",
    "###for c = 0.1\n",
    "svc = svm.SVC(kernel ='linear', C = 0.1).fit(X_train, y_train)\n",
    "y_pred=svc.predict(X_test)\n",
    "print('F1 Score: %.3f' % f1_score(y_test, y_pred))"
   ]
  },
  {
   "cell_type": "code",
   "execution_count": 18,
   "id": "af3057aa",
   "metadata": {},
   "outputs": [
    {
     "name": "stdout",
     "output_type": "stream",
     "text": [
      "F1 Score: 0.858\n"
     ]
    }
   ],
   "source": [
    "##for c = 1\n",
    "svc = svm.SVC(kernel ='linear', C = 1).fit(X_train, y_train)\n",
    "y_pred=svc.predict(X_test)\n",
    "print('F1 Score: %.3f' % f1_score(y_test, y_pred))"
   ]
  },
  {
   "cell_type": "code",
   "execution_count": 19,
   "id": "10796403",
   "metadata": {},
   "outputs": [
    {
     "name": "stdout",
     "output_type": "stream",
     "text": [
      "F1 Score: 0.861\n"
     ]
    }
   ],
   "source": [
    "##for c = 10\n",
    "svc = svm.SVC(kernel ='linear', C = 10).fit(X_train, y_train)\n",
    "y_pred=svc.predict(X_test)\n",
    "print('F1 Score: %.3f' % f1_score(y_test, y_pred))"
   ]
  },
  {
   "cell_type": "code",
   "execution_count": 20,
   "id": "bd6b2d09",
   "metadata": {},
   "outputs": [
    {
     "name": "stdout",
     "output_type": "stream",
     "text": [
      "F1 Score: 0.861\n"
     ]
    }
   ],
   "source": [
    "##for c = 100\n",
    "svc = svm.SVC(kernel ='linear', C = 100).fit(X_train, y_train)\n",
    "y_pred=svc.predict(X_test)\n",
    "print('F1 Score: %.3f' % f1_score(y_test, y_pred))"
   ]
  },
  {
   "cell_type": "code",
   "execution_count": 21,
   "id": "d632efc6",
   "metadata": {},
   "outputs": [
    {
     "name": "stdout",
     "output_type": "stream",
     "text": [
      "F1 Score: 0.861\n"
     ]
    }
   ],
   "source": [
    "##for c = 1000\n",
    "svc = svm.SVC(kernel ='linear', C = 1000).fit(X_train, y_train)\n",
    "y_pred=svc.predict(X_test)\n",
    "print('F1 Score: %.3f' % f1_score(y_test, y_pred))"
   ]
  },
  {
   "cell_type": "code",
   "execution_count": 23,
   "id": "ad59604e",
   "metadata": {},
   "outputs": [
    {
     "name": "stdout",
     "output_type": "stream",
     "text": [
      "F1 Score: 0.341\n"
     ]
    }
   ],
   "source": [
    "##running the sigmoid kernel for c = 0.1\n",
    "svc = svm.SVC(kernel ='sigmoid', C = 0.1).fit(X_train, y_train)\n",
    "y_pred=svc.predict(X_test)\n",
    "print('F1 Score: %.3f' % f1_score(y_test, y_pred))"
   ]
  },
  {
   "cell_type": "code",
   "execution_count": 24,
   "id": "30e3a6cb",
   "metadata": {},
   "outputs": [
    {
     "name": "stdout",
     "output_type": "stream",
     "text": [
      "F1 Score: 0.337\n"
     ]
    }
   ],
   "source": [
    "##running the sigmoid kernel for c = 1\n",
    "svc = svm.SVC(kernel ='sigmoid', C = 1).fit(X_train, y_train)\n",
    "y_pred=svc.predict(X_test)\n",
    "print('F1 Score: %.3f' % f1_score(y_test, y_pred))"
   ]
  },
  {
   "cell_type": "code",
   "execution_count": 25,
   "id": "2a63381a",
   "metadata": {},
   "outputs": [
    {
     "name": "stdout",
     "output_type": "stream",
     "text": [
      "F1 Score: 0.337\n"
     ]
    }
   ],
   "source": [
    "##running the sigmoid kernel for c = 10\n",
    "svc = svm.SVC(kernel ='sigmoid', C = 10).fit(X_train, y_train)\n",
    "y_pred=svc.predict(X_test)\n",
    "print('F1 Score: %.3f' % f1_score(y_test, y_pred))"
   ]
  },
  {
   "cell_type": "code",
   "execution_count": 26,
   "id": "3366f829",
   "metadata": {},
   "outputs": [
    {
     "name": "stdout",
     "output_type": "stream",
     "text": [
      "F1 Score: 0.337\n"
     ]
    }
   ],
   "source": [
    "##running the sigmoid kernel for c = 100\n",
    "svc = svm.SVC(kernel ='sigmoid', C = 100).fit(X_train, y_train)\n",
    "y_pred=svc.predict(X_test)\n",
    "print('F1 Score: %.3f' % f1_score(y_test, y_pred))"
   ]
  },
  {
   "cell_type": "code",
   "execution_count": 27,
   "id": "5c67c172",
   "metadata": {},
   "outputs": [
    {
     "name": "stdout",
     "output_type": "stream",
     "text": [
      "F1 Score: 0.337\n"
     ]
    }
   ],
   "source": [
    "##running the sigmoid kernel for c = 1000\n",
    "svc = svm.SVC(kernel ='sigmoid', C = 1000).fit(X_train, y_train)\n",
    "y_pred=svc.predict(X_test)\n",
    "print('F1 Score: %.3f' % f1_score(y_test, y_pred))"
   ]
  },
  {
   "cell_type": "code",
   "execution_count": 28,
   "id": "f1b6d12a",
   "metadata": {},
   "outputs": [
    {
     "name": "stdout",
     "output_type": "stream",
     "text": [
      "F1 Score: 0.341\n"
     ]
    }
   ],
   "source": [
    "##running the rbf kernel for c = 0.1\n",
    "svc = svm.SVC(kernel ='sigmoid', C = 0.1).fit(X_train, y_train)\n",
    "y_pred=svc.predict(X_test)\n",
    "print('F1 Score: %.3f' % f1_score(y_test, y_pred))"
   ]
  },
  {
   "cell_type": "code",
   "execution_count": 29,
   "id": "dfa5c818",
   "metadata": {},
   "outputs": [
    {
     "name": "stdout",
     "output_type": "stream",
     "text": [
      "F1 Score: 0.337\n"
     ]
    }
   ],
   "source": [
    "##running the rbf kernel for c = 10\n",
    "svc = svm.SVC(kernel ='sigmoid', C = 10).fit(X_train, y_train)\n",
    "y_pred=svc.predict(X_test)\n",
    "print('F1 Score: %.3f' % f1_score(y_test, y_pred))"
   ]
  },
  {
   "cell_type": "code",
   "execution_count": 30,
   "id": "afa32d4d",
   "metadata": {},
   "outputs": [
    {
     "name": "stdout",
     "output_type": "stream",
     "text": [
      "F1 Score: 0.337\n"
     ]
    }
   ],
   "source": [
    "##running the rbf kernel for c = 1\n",
    "svc = svm.SVC(kernel ='sigmoid', C = 1).fit(X_train, y_train)\n",
    "y_pred=svc.predict(X_test)\n",
    "print('F1 Score: %.3f' % f1_score(y_test, y_pred))"
   ]
  },
  {
   "cell_type": "code",
   "execution_count": 31,
   "id": "c20083a3",
   "metadata": {},
   "outputs": [
    {
     "name": "stdout",
     "output_type": "stream",
     "text": [
      "F1 Score: 0.337\n"
     ]
    }
   ],
   "source": [
    "##running the rbf kernel for c = 1000\n",
    "svc = svm.SVC(kernel ='sigmoid', C = 1000).fit(X_train, y_train)\n",
    "y_pred=svc.predict(X_test)\n",
    "print('F1 Score: %.3f' % f1_score(y_test, y_pred))"
   ]
  },
  {
   "cell_type": "code",
   "execution_count": null,
   "id": "3df96ce5",
   "metadata": {},
   "outputs": [],
   "source": []
  }
 ],
 "metadata": {
  "kernelspec": {
   "display_name": "Python 3 (ipykernel)",
   "language": "python",
   "name": "python3"
  },
  "language_info": {
   "codemirror_mode": {
    "name": "ipython",
    "version": 3
   },
   "file_extension": ".py",
   "mimetype": "text/x-python",
   "name": "python",
   "nbconvert_exporter": "python",
   "pygments_lexer": "ipython3",
   "version": "3.9.12"
  }
 },
 "nbformat": 4,
 "nbformat_minor": 5
}
