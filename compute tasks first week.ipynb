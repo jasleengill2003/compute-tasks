{
 "cells": [
  {
   "cell_type": "markdown",
   "id": "0431312a",
   "metadata": {},
   "source": [
    "# Q3"
   ]
  },
  {
   "cell_type": "code",
   "execution_count": 6,
   "id": "cc6f9847",
   "metadata": {},
   "outputs": [
    {
     "name": "stdout",
     "output_type": "stream",
     "text": [
      "enter number of students: 3\n",
      "enter the marks: jazz 5 6 7\n",
      "enter the marks: krishi 6 7 8\n",
      "enter the marks: shivam 3 4 5\n",
      "eneter students name: jazz\n",
      "6.0\n"
     ]
    }
   ],
   "source": [
    "n = int(input(\"enter number of students: \"))\n",
    "student_marks = {}\n",
    "sonuc = 0\n",
    "average = float()\n",
    "for i in range(n):\n",
    "    name, *line = input(\"enter the marks: \").split()\n",
    "    scores = list(map(float, line))\n",
    "    student_marks[name] = scores\n",
    "query_name = input(\"eneter students name: \")\n",
    "avg = (student_marks[query_name][0] + student_marks[query_name][1] + student_marks[query_name][2])/3\n",
    "print(avg)"
   ]
  },
  {
   "cell_type": "markdown",
   "id": "e1159156",
   "metadata": {},
   "source": [
    "# Q4"
   ]
  },
  {
   "cell_type": "code",
   "execution_count": 7,
   "id": "b56ba07d",
   "metadata": {},
   "outputs": [
    {
     "name": "stdout",
     "output_type": "stream",
     "text": [
      "enter number of email addresses: 3\n",
      "enter email address: 192030jasleen@gmail.com \n",
      "enter email address: ioefjkdesv\n",
      "enter email address: krishij03@gmailcom\n",
      "{0: '192030jasleen@gmail.com ', 2: 'krishij03@gmailcom'}\n"
     ]
    }
   ],
   "source": [
    "n = int(input(\"enter number of email addresses: \"))\n",
    "lst = {}\n",
    "for i in range(n):\n",
    "    lst[i] = input(\"enter email address: \")\n",
    "    at_rate = 0\n",
    "    dot = 0\n",
    "def email_checker(dict):\n",
    "    for i in range(n):\n",
    "        email = lst[i].strip().lower()\n",
    "        lenght = len(email)\n",
    "        if not \"@\" in email:\n",
    "            del lst[i]\n",
    "            return\n",
    "        elif not (\".com\" or \".org\" or \".edu\" or \".gov\" or \".net\") in email[-4:]:\n",
    "            del lst[i]\n",
    "            return\n",
    "email_checker(lst)\n",
    "print(lst)"
   ]
  },
  {
   "cell_type": "markdown",
   "id": "8099a2e0",
   "metadata": {},
   "source": [
    "# Q5"
   ]
  },
  {
   "cell_type": "code",
   "execution_count": 8,
   "id": "81078784",
   "metadata": {},
   "outputs": [
    {
     "name": "stdout",
     "output_type": "stream",
     "text": [
      "enter a string: abrahamlinchon\n",
      "specify index: 5\n",
      "specify character: j\n",
      "abrahjmlinchon\n"
     ]
    }
   ],
   "source": [
    "string1 = input(\"enter a string: \")\n",
    "lst = list(string1)\n",
    "n = int(input(\"specify index: \"))\n",
    "a = input(\"specify character: \")\n",
    "lst[n] = a\n",
    "string1 = ''.join(lst)\n",
    "print(string1)"
   ]
  },
  {
   "cell_type": "markdown",
   "id": "5af3ca34",
   "metadata": {},
   "source": [
    "# Q6"
   ]
  },
  {
   "cell_type": "code",
   "execution_count": 9,
   "id": "95289719",
   "metadata": {
    "scrolled": true
   },
   "outputs": [
    {
     "name": "stdout",
     "output_type": "stream",
     "text": [
      "the first and last element of the list are equal\n",
      "the first and last element of the list are not equal\n"
     ]
    }
   ],
   "source": [
    "number_x = [10, 20, 30, 40, 10]\n",
    "number_y = [75, 65, 35, 75, 30]\n",
    "\n",
    "def num_equal(list):\n",
    "    n = len(list)\n",
    "    if list[0] == list[n-1]:\n",
    "        print(\"the first and last element of the list are equal\")\n",
    "    else:\n",
    "        print(\"the first and last element of the list are not equal\")\n",
    "num_equal(number_x)\n",
    "num_equal(number_y)"
   ]
  },
  {
   "cell_type": "markdown",
   "id": "5464e4f4",
   "metadata": {},
   "source": [
    "# Q7"
   ]
  },
  {
   "cell_type": "code",
   "execution_count": 10,
   "id": "80330645",
   "metadata": {},
   "outputs": [
    {
     "name": "stdout",
     "output_type": "stream",
     "text": [
      "enter number of rows: 5\n",
      "1\n",
      "\n",
      "12\n",
      "\n",
      "123\n",
      "\n",
      "1234\n",
      "\n",
      "12345\n",
      "\n"
     ]
    }
   ],
   "source": [
    "n = int(input(\"enter number of rows: \"))\n",
    "\n",
    "for i in range(n):\n",
    "    for j in range(i+1):\n",
    "        print(j+1, end = \"\")\n",
    "    print(\"\\n\")"
   ]
  },
  {
   "cell_type": "code",
   "execution_count": null,
   "id": "c9bd0907",
   "metadata": {},
   "outputs": [],
   "source": [
    "##didnt understand what to do in q2 and q2 is giving error"
   ]
  },
  {
   "cell_type": "markdown",
   "id": "7d712357",
   "metadata": {},
   "source": [
    "# Q1"
   ]
  },
  {
   "cell_type": "code",
   "execution_count": null,
   "id": "30b0ee77",
   "metadata": {},
   "outputs": [],
   "source": [
    "n = int(input(\"enter number of students: \"))\n",
    "x = int(input(\"enter number of subjects: \"))\n",
    "student_marks = {}\n",
    "for i in range(n):\n",
    "    name, *line = (input(\"enter the marks: \")).split()\n",
    "    scores = list(map(float, line))\n",
    "    student_marks[name] = scores\n",
    "for name in range(n):\n",
    "    avg = (student_marks[name][0] + student_marks[name][1] + student_marks[name][2])/3\n",
    "    print(avg)"
   ]
  }
 ],
 "metadata": {
  "kernelspec": {
   "display_name": "Python 3 (ipykernel)",
   "language": "python",
   "name": "python3"
  },
  "language_info": {
   "codemirror_mode": {
    "name": "ipython",
    "version": 3
   },
   "file_extension": ".py",
   "mimetype": "text/x-python",
   "name": "python",
   "nbconvert_exporter": "python",
   "pygments_lexer": "ipython3",
   "version": "3.9.12"
  }
 },
 "nbformat": 4,
 "nbformat_minor": 5
}
